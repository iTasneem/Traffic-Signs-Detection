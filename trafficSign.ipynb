{
 "cells": [
  {
   "attachments": {},
   "cell_type": "markdown",
   "metadata": {},
   "source": [
    "## Importing libraries\n"
   ]
  },
  {
   "cell_type": "code",
   "execution_count": 1,
   "metadata": {},
   "outputs": [],
   "source": [
    "import numpy as np \n",
    "import pandas as pd \n",
    "import matplotlib.pyplot as plt\n",
    "import cv2\n",
    "import tensorflow as tf\n",
    "import os\n",
    "from sklearn.model_selection import train_test_split\n",
    "from sklearn.metrics import accuracy_score\n",
    "from sklearn.metrics import classification_report \n",
    "from keras.utils import to_categorical\n",
    "from keras.models import Sequential, load_model\n",
    "from keras.layers import Conv2D, MaxPool2D, Dense, Flatten, Dropout"
   ]
  },
  {
   "cell_type": "code",
   "execution_count": 2,
   "metadata": {},
   "outputs": [],
   "source": [
    "#Creating the data & labels lists\n",
    "data = []\n",
    "labels = []\n",
    "# We have 43 Classes\n",
    "classes = 43\n",
    "cur_path = (r'D:\\TrafficSigns')"
   ]
  },
  {
   "cell_type": "code",
   "execution_count": 3,
   "metadata": {},
   "outputs": [],
   "source": [
    "for i in range(classes):\n",
    "    path = os.path.join(cur_path,'train',str(i)) #This method returns a string which represents the concatenated path components. \n",
    "    images = os.listdir(path) #This method returns the list of all files and directories in the specified path. The return type of this method is list.\n",
    "    for a in images:\n",
    "        image = cv2.imread(path + '\\\\'+ a)\n",
    "        image = cv2.resize(image,(30,30)) #returns np array\n",
    "       \n",
    "        data.append(image)\n",
    "        labels.append(i)\n",
    "data=np.array(data)\n",
    "labels=np.array(labels)\n",
    "       "
   ]
  },
  {
   "cell_type": "code",
   "execution_count": 4,
   "metadata": {},
   "outputs": [
    {
     "name": "stdout",
     "output_type": "stream",
     "text": [
      "(39209, 30, 30, 3) (39209,)\n"
     ]
    }
   ],
   "source": [
    "print(data.shape, labels.shape)\n",
    "#39209"
   ]
  },
  {
   "cell_type": "code",
   "execution_count": 5,
   "metadata": {},
   "outputs": [],
   "source": [
    "#Spliting data into training data & validation data\n",
    "X_train, X_val, y_train, y_val = train_test_split(data, labels, test_size=0.2, random_state=0)"
   ]
  },
  {
   "cell_type": "code",
   "execution_count": 6,
   "metadata": {},
   "outputs": [
    {
     "name": "stdout",
     "output_type": "stream",
     "text": [
      "(31367, 30, 30, 3) (7842, 30, 30, 3) (31367,) (7842,)\n"
     ]
    }
   ],
   "source": [
    "print(X_train.shape, X_val.shape, y_train.shape, y_val.shape)"
   ]
  },
  {
   "cell_type": "code",
   "execution_count": 7,
   "metadata": {},
   "outputs": [
    {
     "data": {
      "text/plain": [
       "array([[[22, 20, 23],\n",
       "        [23, 21, 24],\n",
       "        [23, 22, 24],\n",
       "        ...,\n",
       "        [21, 19, 21],\n",
       "        [20, 18, 21],\n",
       "        [20, 19, 21]],\n",
       "\n",
       "       [[21, 19, 21],\n",
       "        [20, 19, 21],\n",
       "        [21, 21, 22],\n",
       "        ...,\n",
       "        [20, 18, 21],\n",
       "        [20, 18, 20],\n",
       "        [20, 18, 21]],\n",
       "\n",
       "       [[20, 19, 21],\n",
       "        [21, 20, 22],\n",
       "        [20, 20, 22],\n",
       "        ...,\n",
       "        [19, 17, 20],\n",
       "        [19, 18, 20],\n",
       "        [20, 19, 21]],\n",
       "\n",
       "       ...,\n",
       "\n",
       "       [[20, 18, 21],\n",
       "        [21, 19, 20],\n",
       "        [20, 18, 20],\n",
       "        ...,\n",
       "        [18, 17, 20],\n",
       "        [18, 17, 18],\n",
       "        [20, 18, 19]],\n",
       "\n",
       "       [[21, 18, 21],\n",
       "        [21, 19, 21],\n",
       "        [21, 19, 22],\n",
       "        ...,\n",
       "        [18, 16, 19],\n",
       "        [19, 17, 18],\n",
       "        [19, 17, 19]],\n",
       "\n",
       "       [[19, 17, 19],\n",
       "        [20, 18, 20],\n",
       "        [21, 19, 21],\n",
       "        ...,\n",
       "        [18, 15, 17],\n",
       "        [17, 15, 17],\n",
       "        [16, 15, 18]]], dtype=uint8)"
      ]
     },
     "execution_count": 7,
     "metadata": {},
     "output_type": "execute_result"
    }
   ],
   "source": [
    "X_train[0]"
   ]
  },
  {
   "cell_type": "code",
   "execution_count": 8,
   "metadata": {},
   "outputs": [],
   "source": [
    "#Cast all features to float32\n",
    "X_train = X_train.astype('float32') / 255.0\n",
    "X_val = X_val.astype('float32') / 255.0"
   ]
  },
  {
   "cell_type": "code",
   "execution_count": 9,
   "metadata": {},
   "outputs": [
    {
     "data": {
      "text/plain": [
       "array([[[0.08627451, 0.07843138, 0.09019608],\n",
       "        [0.09019608, 0.08235294, 0.09411765],\n",
       "        [0.09019608, 0.08627451, 0.09411765],\n",
       "        ...,\n",
       "        [0.08235294, 0.07450981, 0.08235294],\n",
       "        [0.07843138, 0.07058824, 0.08235294],\n",
       "        [0.07843138, 0.07450981, 0.08235294]],\n",
       "\n",
       "       [[0.08235294, 0.07450981, 0.08235294],\n",
       "        [0.07843138, 0.07450981, 0.08235294],\n",
       "        [0.08235294, 0.08235294, 0.08627451],\n",
       "        ...,\n",
       "        [0.07843138, 0.07058824, 0.08235294],\n",
       "        [0.07843138, 0.07058824, 0.07843138],\n",
       "        [0.07843138, 0.07058824, 0.08235294]],\n",
       "\n",
       "       [[0.07843138, 0.07450981, 0.08235294],\n",
       "        [0.08235294, 0.07843138, 0.08627451],\n",
       "        [0.07843138, 0.07843138, 0.08627451],\n",
       "        ...,\n",
       "        [0.07450981, 0.06666667, 0.07843138],\n",
       "        [0.07450981, 0.07058824, 0.07843138],\n",
       "        [0.07843138, 0.07450981, 0.08235294]],\n",
       "\n",
       "       ...,\n",
       "\n",
       "       [[0.07843138, 0.07058824, 0.08235294],\n",
       "        [0.08235294, 0.07450981, 0.07843138],\n",
       "        [0.07843138, 0.07058824, 0.07843138],\n",
       "        ...,\n",
       "        [0.07058824, 0.06666667, 0.07843138],\n",
       "        [0.07058824, 0.06666667, 0.07058824],\n",
       "        [0.07843138, 0.07058824, 0.07450981]],\n",
       "\n",
       "       [[0.08235294, 0.07058824, 0.08235294],\n",
       "        [0.08235294, 0.07450981, 0.08235294],\n",
       "        [0.08235294, 0.07450981, 0.08627451],\n",
       "        ...,\n",
       "        [0.07058824, 0.0627451 , 0.07450981],\n",
       "        [0.07450981, 0.06666667, 0.07058824],\n",
       "        [0.07450981, 0.06666667, 0.07450981]],\n",
       "\n",
       "       [[0.07450981, 0.06666667, 0.07450981],\n",
       "        [0.07843138, 0.07058824, 0.07843138],\n",
       "        [0.08235294, 0.07450981, 0.08235294],\n",
       "        ...,\n",
       "        [0.07058824, 0.05882353, 0.06666667],\n",
       "        [0.06666667, 0.05882353, 0.06666667],\n",
       "        [0.0627451 , 0.05882353, 0.07058824]]], dtype=float32)"
      ]
     },
     "execution_count": 9,
     "metadata": {},
     "output_type": "execute_result"
    }
   ],
   "source": [
    "X_train[0]"
   ]
  },
  {
   "attachments": {},
   "cell_type": "markdown",
   "metadata": {},
   "source": [
    "## Convert labels to onehot encoding"
   ]
  },
  {
   "cell_type": "code",
   "execution_count": 10,
   "metadata": {},
   "outputs": [],
   "source": [
    "y_train = to_categorical(y_train, 43)\n",
    "y_val = to_categorical(y_val, 43)"
   ]
  },
  {
   "attachments": {},
   "cell_type": "markdown",
   "metadata": {},
   "source": [
    "## Building the model"
   ]
  },
  {
   "cell_type": "code",
   "execution_count": 11,
   "metadata": {},
   "outputs": [
    {
     "name": "stdout",
     "output_type": "stream",
     "text": [
      "Model: \"sequential\"\n",
      "_________________________________________________________________\n",
      " Layer (type)                Output Shape              Param #   \n",
      "=================================================================\n",
      " conv2d (Conv2D)             (None, 26, 26, 32)        2432      \n",
      "                                                                 \n",
      " conv2d_1 (Conv2D)           (None, 22, 22, 32)        25632     \n",
      "                                                                 \n",
      " max_pooling2d (MaxPooling2D  (None, 11, 11, 32)       0         \n",
      " )                                                               \n",
      "                                                                 \n",
      " dropout (Dropout)           (None, 11, 11, 32)        0         \n",
      "                                                                 \n",
      " conv2d_2 (Conv2D)           (None, 9, 9, 64)          18496     \n",
      "                                                                 \n",
      " conv2d_3 (Conv2D)           (None, 7, 7, 64)          36928     \n",
      "                                                                 \n",
      " max_pooling2d_1 (MaxPooling  (None, 3, 3, 64)         0         \n",
      " 2D)                                                             \n",
      "                                                                 \n",
      " dropout_1 (Dropout)         (None, 3, 3, 64)          0         \n",
      "                                                                 \n",
      " flatten (Flatten)           (None, 576)               0         \n",
      "                                                                 \n",
      " dense (Dense)               (None, 256)               147712    \n",
      "                                                                 \n",
      " dropout_2 (Dropout)         (None, 256)               0         \n",
      "                                                                 \n",
      " dense_1 (Dense)             (None, 43)                11051     \n",
      "                                                                 \n",
      "=================================================================\n",
      "Total params: 242,251\n",
      "Trainable params: 242,251\n",
      "Non-trainable params: 0\n",
      "_________________________________________________________________\n"
     ]
    }
   ],
   "source": [
    "model = Sequential()\n",
    "\n",
    "#Feature extraction\n",
    "model.add(Conv2D(filters=32, kernel_size=(5,5), activation='relu', input_shape=(30,30,3)))\n",
    "model.add(Conv2D(filters=32, kernel_size=(5,5), activation='relu'))\n",
    "model.add(MaxPool2D(pool_size=(2, 2)))\n",
    "model.add(Dropout(rate=0.25))\n",
    "model.add(Conv2D(filters=64, kernel_size=(3, 3), activation='relu'))\n",
    "model.add(Conv2D(filters=64, kernel_size=(3, 3), activation='relu'))\n",
    "model.add(MaxPool2D(pool_size=(2, 2)))\n",
    "model.add(Dropout(rate=0.25))\n",
    "\n",
    "#classification\n",
    "model.add(Flatten())\n",
    "model.add(Dense(256, activation='relu'))\n",
    "model.add(Dropout(rate=0.5))\n",
    "# We have 43 classes that's why we have defined 43 in the dense\n",
    "model.add(Dense(43, activation='softmax'))\n",
    "\n",
    "model.summary()"
   ]
  },
  {
   "attachments": {},
   "cell_type": "markdown",
   "metadata": {},
   "source": [
    "## Training"
   ]
  },
  {
   "cell_type": "code",
   "execution_count": 12,
   "metadata": {},
   "outputs": [],
   "source": [
    "model.compile(loss='categorical_crossentropy', optimizer='adam', metrics=['accuracy'])"
   ]
  },
  {
   "cell_type": "code",
   "execution_count": 13,
   "metadata": {},
   "outputs": [
    {
     "name": "stdout",
     "output_type": "stream",
     "text": [
      "Epoch 1/20\n",
      "981/981 [==============================] - 98s 99ms/step - loss: 1.3461 - accuracy: 0.6236 - val_loss: 0.1737 - val_accuracy: 0.9559\n",
      "Epoch 2/20\n",
      "981/981 [==============================] - 120s 122ms/step - loss: 0.2592 - accuracy: 0.9219 - val_loss: 0.0854 - val_accuracy: 0.9764\n",
      "Epoch 3/20\n",
      "981/981 [==============================] - 88s 90ms/step - loss: 0.1659 - accuracy: 0.9503 - val_loss: 0.0564 - val_accuracy: 0.9834\n",
      "Epoch 4/20\n",
      "981/981 [==============================] - 85s 87ms/step - loss: 0.1185 - accuracy: 0.9649 - val_loss: 0.0494 - val_accuracy: 0.9883\n",
      "Epoch 5/20\n",
      "981/981 [==============================] - 89s 91ms/step - loss: 0.1048 - accuracy: 0.9688 - val_loss: 0.0341 - val_accuracy: 0.9912\n",
      "Epoch 6/20\n",
      "981/981 [==============================] - 87s 89ms/step - loss: 0.0811 - accuracy: 0.9757 - val_loss: 0.0387 - val_accuracy: 0.9907\n",
      "Epoch 7/20\n",
      "981/981 [==============================] - 85s 86ms/step - loss: 0.0816 - accuracy: 0.9760 - val_loss: 0.0309 - val_accuracy: 0.9935\n",
      "Epoch 8/20\n",
      "981/981 [==============================] - 90s 92ms/step - loss: 0.0725 - accuracy: 0.9787 - val_loss: 0.0286 - val_accuracy: 0.9932\n",
      "Epoch 9/20\n",
      "981/981 [==============================] - 90s 91ms/step - loss: 0.0663 - accuracy: 0.9803 - val_loss: 0.0266 - val_accuracy: 0.9936\n",
      "Epoch 10/20\n",
      "981/981 [==============================] - 89s 90ms/step - loss: 0.0596 - accuracy: 0.9826 - val_loss: 0.0369 - val_accuracy: 0.9911\n",
      "Epoch 11/20\n",
      "981/981 [==============================] - 105s 107ms/step - loss: 0.0613 - accuracy: 0.9822 - val_loss: 0.0277 - val_accuracy: 0.9934\n",
      "Epoch 12/20\n",
      "981/981 [==============================] - 93s 95ms/step - loss: 0.0594 - accuracy: 0.9828 - val_loss: 0.0251 - val_accuracy: 0.9940\n",
      "Epoch 13/20\n",
      "981/981 [==============================] - 92s 94ms/step - loss: 0.0610 - accuracy: 0.9822 - val_loss: 0.0251 - val_accuracy: 0.9943\n",
      "Epoch 14/20\n",
      "981/981 [==============================] - 91s 92ms/step - loss: 0.0571 - accuracy: 0.9828 - val_loss: 0.0283 - val_accuracy: 0.9943\n",
      "Epoch 15/20\n",
      "981/981 [==============================] - 90s 92ms/step - loss: 0.0469 - accuracy: 0.9858 - val_loss: 0.0282 - val_accuracy: 0.9945\n",
      "Epoch 16/20\n",
      "981/981 [==============================] - 87s 89ms/step - loss: 0.0526 - accuracy: 0.9842 - val_loss: 0.0229 - val_accuracy: 0.9963\n",
      "Epoch 17/20\n",
      "981/981 [==============================] - 89s 91ms/step - loss: 0.0512 - accuracy: 0.9855 - val_loss: 0.0254 - val_accuracy: 0.9950\n",
      "Epoch 18/20\n",
      "981/981 [==============================] - 90s 91ms/step - loss: 0.0494 - accuracy: 0.9854 - val_loss: 0.0266 - val_accuracy: 0.9943\n",
      "Epoch 19/20\n",
      "981/981 [==============================] - 90s 92ms/step - loss: 0.0469 - accuracy: 0.9862 - val_loss: 0.0328 - val_accuracy: 0.9926\n",
      "Epoch 20/20\n",
      "981/981 [==============================] - 92s 94ms/step - loss: 0.0547 - accuracy: 0.9862 - val_loss: 0.0260 - val_accuracy: 0.9954\n"
     ]
    }
   ],
   "source": [
    "epochs = 20\n",
    "history = model.fit(X_train, y_train, batch_size=32, epochs=epochs,validation_data=(X_val, y_val))\n",
    "\n"
   ]
  },
  {
   "attachments": {},
   "cell_type": "markdown",
   "metadata": {},
   "source": [
    "## Accuracy and Loss"
   ]
  },
  {
   "cell_type": "code",
   "execution_count": 14,
   "metadata": {},
   "outputs": [
    {
     "data": {
      "image/png": "[encoded data removed]",
      "text/plain": [
       "<Figure size 640x480 with 1 Axes>"
      ]
     },
     "metadata": {},
     "output_type": "display_data"
    }
   ],
   "source": [
    "# accuracy \n",
    "plt.figure(0)\n",
    "plt.plot(history.history['accuracy'], label='training accuracy')\n",
    "plt.plot(history.history['val_accuracy'], label='val accuracy')\n",
    "plt.title('Accuracy')\n",
    "plt.xlabel('epochs')\n",
    "plt.ylabel('accuracy')\n",
    "plt.legend()\n",
    "plt.show()"
   ]
  },
  {
   "cell_type": "code",
   "execution_count": 15,
   "metadata": {},
   "outputs": [
    {
     "data": {
      "image/png": "[encoded data removed]",
      "text/plain": [
       "<Figure size 640x480 with 1 Axes>"
      ]
     },
     "metadata": {},
     "output_type": "display_data"
    }
   ],
   "source": [
    "# Loss\n",
    "plt.plot(history.history['loss'], label='training loss')\n",
    "plt.plot(history.history['val_loss'], label='val loss')\n",
    "plt.title('Loss')\n",
    "plt.xlabel('epochs')\n",
    "plt.ylabel('loss')\n",
    "plt.legend(loc='upper left')\n",
    "plt.show()"
   ]
  },
  {
   "attachments": {},
   "cell_type": "markdown",
   "metadata": {},
   "source": [
    "## Testing the data"
   ]
  },
  {
   "cell_type": "code",
   "execution_count": 16,
   "metadata": {},
   "outputs": [],
   "source": [
    "def testing(testcsv):\n",
    "    data_test = pd.read_csv(testcsv)\n",
    "    y_test = np.array(data_test[\"ClassId\"].values)\n",
    "    imgs = data_test[\"Path\"].values\n",
    "    X_test=[]\n",
    "    for img in imgs:\n",
    "        image = cv2.imread(img)\n",
    "        image = cv2.resize(image,(30,30))\n",
    "        image = np.array(image)\n",
    "        X_test.append(image)\n",
    "    X_test=np.array(X_test)\n",
    "\n",
    "    return X_test,y_test"
   ]
  },
  {
   "cell_type": "code",
   "execution_count": 17,
   "metadata": {},
   "outputs": [],
   "source": [
    "X_test, y_test = testing('Test.csv')"
   ]
  },
  {
   "cell_type": "code",
   "execution_count": 18,
   "metadata": {},
   "outputs": [],
   "source": [
    "X_test=X_test.astype('float32') / 255.0\n",
    "y_test = to_categorical(y_test, 43)"
   ]
  },
  {
   "cell_type": "code",
   "execution_count": 21,
   "metadata": {},
   "outputs": [
    {
     "name": "stdout",
     "output_type": "stream",
     "text": [
      "395/395 [==============================] - 8s 21ms/step - loss: 0.1569 - accuracy: 0.9741\n"
     ]
    },
    {
     "data": {
      "text/plain": [
       "[0.15693502128124237, 0.9741092920303345]"
      ]
     },
     "execution_count": 21,
     "metadata": {},
     "output_type": "execute_result"
    }
   ],
   "source": [
    "\n",
    "model.evaluate(X_test,y_test)"
   ]
  },
  {
   "cell_type": "code",
   "execution_count": 22,
   "metadata": {},
   "outputs": [
    {
     "name": "stdout",
     "output_type": "stream",
     "text": [
      "395/395 [==============================] - 33s 82ms/step\n"
     ]
    }
   ],
   "source": [
    "y_pred = model.predict(X_test)"
   ]
  },
  {
   "cell_type": "code",
   "execution_count": 23,
   "metadata": {},
   "outputs": [],
   "source": [
    "y_pred = np.argmax(y_pred, axis=1) \n",
    "y_test = np.argmax(y_test, axis=1)"
   ]
  },
  {
   "cell_type": "code",
   "execution_count": 24,
   "metadata": {},
   "outputs": [
    {
     "name": "stdout",
     "output_type": "stream",
     "text": [
      "0.9741092636579572\n"
     ]
    }
   ],
   "source": [
    "print(accuracy_score(y_test, y_pred))"
   ]
  },
  {
   "attachments": {},
   "cell_type": "markdown",
   "metadata": {},
   "source": [
    "## Viewing image"
   ]
  },
  {
   "cell_type": "code",
   "execution_count": 25,
   "metadata": {},
   "outputs": [],
   "source": [
    "# Classes of trafic signs\n",
    "classes = { 0:'Speed limit (20km/h)',\n",
    "            1:'Speed limit (30km/h)', \n",
    "            2:'Speed limit (50km/h)', \n",
    "            3:'Speed limit (60km/h)', \n",
    "            4:'Speed limit (70km/h)', \n",
    "            5:'Speed limit (80km/h)', \n",
    "            6:'End of speed limit (80km/h)', \n",
    "            7:'Speed limit (100km/h)', \n",
    "            8:'Speed limit (120km/h)', \n",
    "            9:'No passing', \n",
    "            10:'No passing veh over 3.5 tons', \n",
    "            11:'Right-of-way at intersection', \n",
    "            12:'Priority road', \n",
    "            13:'Yield', \n",
    "            14:'Stop', \n",
    "            15:'No vehicles', \n",
    "            16:'Veh > 3.5 tons prohibited', \n",
    "            17:'No entry', \n",
    "            18:'General caution', \n",
    "            19:'Dangerous curve left', \n",
    "            20:'Dangerous curve right', \n",
    "            21:'Double curve', \n",
    "            22:'Bumpy road', \n",
    "            23:'Slippery road', \n",
    "            24:'Road narrows on the right', \n",
    "            25:'Road work', \n",
    "            26:'Traffic signals', \n",
    "            27:'Pedestrians', \n",
    "            28:'Children crossing', \n",
    "            29:'Bicycles crossing', \n",
    "            30:'Beware of ice/snow',\n",
    "            31:'Wild animals crossing', \n",
    "            32:'End speed + passing limits', \n",
    "            33:'Turn right ahead', \n",
    "            34:'Turn left ahead', \n",
    "            35:'Ahead only', \n",
    "            36:'Go straight or right', \n",
    "            37:'Go straight or left', \n",
    "            38:'Keep right', \n",
    "            39:'Keep left', \n",
    "            40:'Roundabout mandatory', \n",
    "            41:'End of no passing', \n",
    "            42:'End no passing veh > 3.5 tons' }"
   ]
  },
  {
   "cell_type": "code",
   "execution_count": 26,
   "metadata": {},
   "outputs": [],
   "source": [
    "def test_on_img(img):\n",
    "    data=[]\n",
    "    image = cv2.imread(img)\n",
    "    image = cv2.resize(image,(30,30))\n",
    "    data.append(np.array(image))\n",
    "    X_test=np.array(data)\n",
    "    Y_pred=model.predict(X_test)\n",
    "    Y_pred=np.argmax(Y_pred,axis=1)\n",
    "    return image,Y_pred"
   ]
  },
  {
   "cell_type": "code",
   "execution_count": 27,
   "metadata": {},
   "outputs": [
    {
     "name": "stdout",
     "output_type": "stream",
     "text": [
      "1/1 [==============================] - 1s 975ms/step\n",
      "Predicted traffic sign is:  Speed limit (30km/h)\n"
     ]
    },
    {
     "data": {
      "image/png": "[encoded data removed]",
      "text/plain": [
       "<Figure size 640x480 with 1 Axes>"
      ]
     },
     "metadata": {},
     "output_type": "display_data"
    }
   ],
   "source": [
    "imgTest,prediction = test_on_img(r'D:\\TrafficSigns\\Test\\00508.png')\n",
    "prediction=int(prediction)\n",
    "print(\"Predicted traffic sign is: \", classes[prediction])\n",
    "plt.imshow(cv2.cvtColor(imgTest, cv2.COLOR_BGR2RGB))\n",
    "plt.show()"
   ]
  }
 ],
 "metadata": {
  "kernelspec": {
   "display_name": "Python 3",
   "language": "python",
   "name": "python3"
  },
  "language_info": {
   "codemirror_mode": {
    "name": "ipython",
    "version": 3
   },
   "file_extension": ".py",
   "mimetype": "text/x-python",
   "name": "python",
   "nbconvert_exporter": "python",
   "pygments_lexer": "ipython3",
   "version": "3.10.0 (tags/v3.10.0:b494f59, Oct  4 2021, 19:00:18) [MSC v.1929 64 bit (AMD64)]"
  },
  "orig_nbformat": 4,
  "vscode": {
   "interpreter": {
    "hash": "4a3655be9724c3c2fd80b9d19720018e34db751a9d912fc4869d7e6a780dec18"
   }
  }
 },
 "nbformat": 4,
 "nbformat_minor": 2
}
